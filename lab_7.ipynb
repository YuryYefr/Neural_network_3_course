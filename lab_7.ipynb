{
 "cells": [
  {
   "metadata": {},
   "cell_type": "markdown",
   "source": "# LSTM for Sentiment Analysis on Yelp Review Polarity Dataset\n",
   "id": "1b30e46e8b4e0140"
  },
  {
   "metadata": {
    "ExecuteTime": {
     "end_time": "2025-05-20T09:30:31.960776Z",
     "start_time": "2025-05-20T09:30:26.938182Z"
    }
   },
   "cell_type": "code",
   "source": [
    "import numpy as np\n",
    "import pandas as pd\n",
    "import matplotlib.pyplot as plt\n",
    "import tensorflow as tf\n",
    "from tensorflow.keras.preprocessing.text import Tokenizer\n",
    "from tensorflow.keras.preprocessing.sequence import pad_sequences\n",
    "from tensorflow.keras.models import Sequential\n",
    "from tensorflow.keras.layers import Embedding, LSTM, Dense, Dropout, Bidirectional\n",
    "from tensorflow.keras.callbacks import EarlyStopping, ModelCheckpoint\n",
    "from sklearn.metrics import accuracy_score, classification_report, confusion_matrix\n",
    "import seaborn as sns\n",
    "import re\n",
    "import string\n",
    "import time\n",
    "\n",
    "# Set random seed for reproducibility\n",
    "np.random.seed(42)\n",
    "tf.random.set_seed(42)\n"
   ],
   "id": "32333976214c46e0",
   "outputs": [],
   "execution_count": 1
  },
  {
   "metadata": {},
   "cell_type": "markdown",
   "source": "## 1. Load the dataset\n",
   "id": "1cc30c1b405b4269"
  },
  {
   "metadata": {
    "ExecuteTime": {
     "end_time": "2025-05-20T09:30:41.235968Z",
     "start_time": "2025-05-20T09:30:32.069809Z"
    }
   },
   "cell_type": "code",
   "source": [
    "print(\"Loading dataset...\")\n",
    "\n",
    "# Function to load the dataset\n",
    "def load_data(file_path):\n",
    "    # Read the CSV file\n",
    "    # The file has no header, and we need to handle the text properly\n",
    "    df = pd.read_csv(file_path, header=None, names=['sentiment', 'text'])\n",
    "\n",
    "    # Convert sentiment labels from 1/2 to 0/1 for binary classification\n",
    "    # Original: 1 = negative, 2 = positive\n",
    "    # New: 0 = negative, 1 = positive\n",
    "    df['sentiment'] = df['sentiment'].map({1: 0, 2: 1})\n",
    "\n",
    "    return df\n",
    "\n",
    "# Load training and testing data\n",
    "train_df = load_data('data/yelp_review_polarity_csv/train.csv')\n",
    "test_df = load_data('data/yelp_review_polarity_csv/test.csv')\n",
    "\n",
    "print(f\"Training data shape: {train_df.shape}\")\n",
    "print(f\"Testing data shape: {test_df.shape}\")\n",
    "\n",
    "# Display class distribution\n",
    "print(\"\\nClass distribution in training data:\")\n",
    "print(train_df['sentiment'].value_counts())\n",
    "print(\"\\nClass distribution in testing data:\")\n",
    "print(test_df['sentiment'].value_counts())\n",
    "\n",
    "# Display a few examples\n",
    "print(\"\\nExample reviews:\")\n",
    "for i in range(3):\n",
    "    sentiment = \"Positive\" if train_df.iloc[i]['sentiment'] == 1 else \"Negative\"\n",
    "    print(f\"Review {i+1} ({sentiment}):\")\n",
    "    print(train_df.iloc[i]['text'][:200] + \"...\" if len(train_df.iloc[i]['text']) > 200 else train_df.iloc[i]['text'])\n",
    "    print()\n"
   ],
   "id": "50b790135286c602",
   "outputs": [
    {
     "name": "stdout",
     "output_type": "stream",
     "text": [
      "Loading dataset...\n",
      "Training data shape: (560000, 2)\n",
      "Testing data shape: (38000, 2)\n",
      "\n",
      "Class distribution in training data:\n",
      "sentiment\n",
      "0    280000\n",
      "1    280000\n",
      "Name: count, dtype: int64\n",
      "\n",
      "Class distribution in testing data:\n",
      "sentiment\n",
      "1    19000\n",
      "0    19000\n",
      "Name: count, dtype: int64\n",
      "\n",
      "Example reviews:\n",
      "Review 1 (Negative):\n",
      "Unfortunately, the frustration of being Dr. Goldberg's patient is a repeat of the experience I've had with so many other doctors in NYC -- good doctor, terrible staff.  It seems that his staff simply ...\n",
      "\n",
      "Review 2 (Positive):\n",
      "Been going to Dr. Goldberg for over 10 years. I think I was one of his 1st patients when he started at MHMG. He's been great over the years and is really all about the big picture. It is because of hi...\n",
      "\n",
      "Review 3 (Negative):\n",
      "I don't know what Dr. Goldberg was like before  moving to Arizona, but let me tell you, STAY AWAY from this doctor and this office. I was going to Dr. Johnson before he left and Goldberg took over whe...\n",
      "\n"
     ]
    }
   ],
   "execution_count": 2
  },
  {
   "metadata": {},
   "cell_type": "markdown",
   "source": "## 2. Preprocess the text data\n",
   "id": "2b7e8c428c4ec85f"
  },
  {
   "metadata": {
    "ExecuteTime": {
     "end_time": "2025-05-20T09:33:43.183921Z",
     "start_time": "2025-05-20T09:30:41.342039Z"
    }
   },
   "cell_type": "code",
   "source": [
    "print(\"Preprocessing text data...\")\n",
    "\n",
    "def preprocess_text(text):\n",
    "    \"\"\"\n",
    "    Preprocess the text by:\n",
    "    1. Converting to lowercase\n",
    "    2. Removing punctuation\n",
    "    3. Removing numbers\n",
    "    4. Removing extra whitespace\n",
    "    \"\"\"\n",
    "    # Convert to lowercase\n",
    "    text = text.lower()\n",
    "\n",
    "    # Remove punctuation\n",
    "    text = text.translate(str.maketrans('', '', string.punctuation))\n",
    "\n",
    "    # Remove numbers\n",
    "    text = re.sub(r'\\d+', '', text)\n",
    "\n",
    "    # Remove extra whitespace\n",
    "    text = re.sub(r'\\s+', ' ', text).strip()\n",
    "\n",
    "    return text\n",
    "\n",
    "# Apply preprocessing to the text data\n",
    "train_df['processed_text'] = train_df['text'].apply(preprocess_text)\n",
    "test_df['processed_text'] = test_df['text'].apply(preprocess_text)\n",
    "\n",
    "# Tokenize the text\n",
    "max_words = 10000  # Maximum number of words to keep\n",
    "max_len = 200      # Maximum sequence length\n",
    "\n",
    "tokenizer = Tokenizer(num_words=max_words, oov_token=\"<OOV>\")\n",
    "tokenizer.fit_on_texts(train_df['processed_text'])\n",
    "\n",
    "# Convert text to sequences\n",
    "train_sequences = tokenizer.texts_to_sequences(train_df['processed_text'])\n",
    "test_sequences = tokenizer.texts_to_sequences(test_df['processed_text'])\n",
    "\n",
    "# Pad sequences to ensure uniform length\n",
    "train_padded = pad_sequences(train_sequences, maxlen=max_len, padding='post', truncating='post')\n",
    "test_padded = pad_sequences(test_sequences, maxlen=max_len, padding='post', truncating='post')\n",
    "\n",
    "# Convert to numpy arrays\n",
    "train_labels = np.array(train_df['sentiment'])\n",
    "test_labels = np.array(test_df['sentiment'])\n",
    "\n",
    "print(f\"Vocabulary size: {len(tokenizer.word_index)}\")\n",
    "print(f\"Number of unique words in training data: {len(tokenizer.word_index)}\")\n",
    "print(f\"Shape of training data: {train_padded.shape}\")\n",
    "print(f\"Shape of testing data: {test_padded.shape}\")\n"
   ],
   "id": "ece0f40bec53c80a",
   "outputs": [
    {
     "name": "stdout",
     "output_type": "stream",
     "text": [
      "Preprocessing text data...\n",
      "Vocabulary size: 698785\n",
      "Number of unique words in training data: 698785\n",
      "Shape of training data: (560000, 200)\n",
      "Shape of testing data: (38000, 200)\n"
     ]
    }
   ],
   "execution_count": 3
  },
  {
   "metadata": {},
   "cell_type": "markdown",
   "source": "## 3. Build the LSTM model\n",
   "id": "1c859ea743af81e5"
  },
  {
   "metadata": {
    "ExecuteTime": {
     "end_time": "2025-05-20T09:33:43.882014Z",
     "start_time": "2025-05-20T09:33:43.256475Z"
    }
   },
   "cell_type": "code",
   "source": [
    "print(\"Building LSTM model...\")\n",
    "\n",
    "# Define model parameters\n",
    "embedding_dim = 128\n",
    "lstm_units = 64\n",
    "dropout_rate = 0.5\n",
    "\n",
    "# Create the model\n",
    "model = Sequential([\n",
    "    # Embedding layer\n",
    "    Embedding(input_dim=max_words, output_dim=embedding_dim),\n",
    "\n",
    "    # Bidirectional LSTM layer\n",
    "    Bidirectional(LSTM(lstm_units, return_sequences=True)),\n",
    "    Dropout(dropout_rate),\n",
    "\n",
    "    # Second LSTM layer\n",
    "    Bidirectional(LSTM(lstm_units)),\n",
    "    Dropout(dropout_rate),\n",
    "\n",
    "    # Dense output layer\n",
    "    Dense(1, activation='sigmoid')\n",
    "])\n",
    "\n",
    "# Compile the model\n",
    "model.compile(\n",
    "    loss='binary_crossentropy',\n",
    "    optimizer='adam',\n",
    "    metrics=['accuracy']\n",
    ")\n",
    "\n",
    "# Print model summary\n",
    "model.summary()\n"
   ],
   "id": "e88faad1d12afbf6",
   "outputs": [
    {
     "name": "stdout",
     "output_type": "stream",
     "text": [
      "Building LSTM model...\n"
     ]
    },
    {
     "name": "stderr",
     "output_type": "stream",
     "text": [
      "2025-05-20 12:33:43.360504: I metal_plugin/src/device/metal_device.cc:1154] Metal device set to: Apple M1 Max\n",
      "2025-05-20 12:33:43.374157: I metal_plugin/src/device/metal_device.cc:296] systemMemory: 32.00 GB\n",
      "2025-05-20 12:33:43.374184: I metal_plugin/src/device/metal_device.cc:313] maxCacheSize: 10.67 GB\n",
      "2025-05-20 12:33:43.374749: I tensorflow/core/common_runtime/pluggable_device/pluggable_device_factory.cc:305] Could not identify NUMA node of platform GPU ID 0, defaulting to 0. Your kernel may not have been built with NUMA support.\n",
      "2025-05-20 12:33:43.375429: I tensorflow/core/common_runtime/pluggable_device/pluggable_device_factory.cc:271] Created TensorFlow device (/job:localhost/replica:0/task:0/device:GPU:0 with 0 MB memory) -> physical PluggableDevice (device: 0, name: METAL, pci bus id: <undefined>)\n"
     ]
    },
    {
     "data": {
      "text/plain": [
       "\u001B[1mModel: \"sequential\"\u001B[0m\n"
      ],
      "text/html": [
       "<pre style=\"white-space:pre;overflow-x:auto;line-height:normal;font-family:Menlo,'DejaVu Sans Mono',consolas,'Courier New',monospace\"><span style=\"font-weight: bold\">Model: \"sequential\"</span>\n",
       "</pre>\n"
      ]
     },
     "metadata": {},
     "output_type": "display_data"
    },
    {
     "data": {
      "text/plain": [
       "┏━━━━━━━━━━━━━━━━━━━━━━━━━━━━━━━━━┳━━━━━━━━━━━━━━━━━━━━━━━━┳━━━━━━━━━━━━━━━┓\n",
       "┃\u001B[1m \u001B[0m\u001B[1mLayer (type)                   \u001B[0m\u001B[1m \u001B[0m┃\u001B[1m \u001B[0m\u001B[1mOutput Shape          \u001B[0m\u001B[1m \u001B[0m┃\u001B[1m \u001B[0m\u001B[1m      Param #\u001B[0m\u001B[1m \u001B[0m┃\n",
       "┡━━━━━━━━━━━━━━━━━━━━━━━━━━━━━━━━━╇━━━━━━━━━━━━━━━━━━━━━━━━╇━━━━━━━━━━━━━━━┩\n",
       "│ embedding (\u001B[38;5;33mEmbedding\u001B[0m)           │ ?                      │   \u001B[38;5;34m0\u001B[0m (unbuilt) │\n",
       "├─────────────────────────────────┼────────────────────────┼───────────────┤\n",
       "│ bidirectional (\u001B[38;5;33mBidirectional\u001B[0m)   │ ?                      │   \u001B[38;5;34m0\u001B[0m (unbuilt) │\n",
       "├─────────────────────────────────┼────────────────────────┼───────────────┤\n",
       "│ dropout (\u001B[38;5;33mDropout\u001B[0m)               │ ?                      │             \u001B[38;5;34m0\u001B[0m │\n",
       "├─────────────────────────────────┼────────────────────────┼───────────────┤\n",
       "│ bidirectional_1 (\u001B[38;5;33mBidirectional\u001B[0m) │ ?                      │   \u001B[38;5;34m0\u001B[0m (unbuilt) │\n",
       "├─────────────────────────────────┼────────────────────────┼───────────────┤\n",
       "│ dropout_1 (\u001B[38;5;33mDropout\u001B[0m)             │ ?                      │             \u001B[38;5;34m0\u001B[0m │\n",
       "├─────────────────────────────────┼────────────────────────┼───────────────┤\n",
       "│ dense (\u001B[38;5;33mDense\u001B[0m)                   │ ?                      │   \u001B[38;5;34m0\u001B[0m (unbuilt) │\n",
       "└─────────────────────────────────┴────────────────────────┴───────────────┘\n"
      ],
      "text/html": [
       "<pre style=\"white-space:pre;overflow-x:auto;line-height:normal;font-family:Menlo,'DejaVu Sans Mono',consolas,'Courier New',monospace\">┏━━━━━━━━━━━━━━━━━━━━━━━━━━━━━━━━━┳━━━━━━━━━━━━━━━━━━━━━━━━┳━━━━━━━━━━━━━━━┓\n",
       "┃<span style=\"font-weight: bold\"> Layer (type)                    </span>┃<span style=\"font-weight: bold\"> Output Shape           </span>┃<span style=\"font-weight: bold\">       Param # </span>┃\n",
       "┡━━━━━━━━━━━━━━━━━━━━━━━━━━━━━━━━━╇━━━━━━━━━━━━━━━━━━━━━━━━╇━━━━━━━━━━━━━━━┩\n",
       "│ embedding (<span style=\"color: #0087ff; text-decoration-color: #0087ff\">Embedding</span>)           │ ?                      │   <span style=\"color: #00af00; text-decoration-color: #00af00\">0</span> (unbuilt) │\n",
       "├─────────────────────────────────┼────────────────────────┼───────────────┤\n",
       "│ bidirectional (<span style=\"color: #0087ff; text-decoration-color: #0087ff\">Bidirectional</span>)   │ ?                      │   <span style=\"color: #00af00; text-decoration-color: #00af00\">0</span> (unbuilt) │\n",
       "├─────────────────────────────────┼────────────────────────┼───────────────┤\n",
       "│ dropout (<span style=\"color: #0087ff; text-decoration-color: #0087ff\">Dropout</span>)               │ ?                      │             <span style=\"color: #00af00; text-decoration-color: #00af00\">0</span> │\n",
       "├─────────────────────────────────┼────────────────────────┼───────────────┤\n",
       "│ bidirectional_1 (<span style=\"color: #0087ff; text-decoration-color: #0087ff\">Bidirectional</span>) │ ?                      │   <span style=\"color: #00af00; text-decoration-color: #00af00\">0</span> (unbuilt) │\n",
       "├─────────────────────────────────┼────────────────────────┼───────────────┤\n",
       "│ dropout_1 (<span style=\"color: #0087ff; text-decoration-color: #0087ff\">Dropout</span>)             │ ?                      │             <span style=\"color: #00af00; text-decoration-color: #00af00\">0</span> │\n",
       "├─────────────────────────────────┼────────────────────────┼───────────────┤\n",
       "│ dense (<span style=\"color: #0087ff; text-decoration-color: #0087ff\">Dense</span>)                   │ ?                      │   <span style=\"color: #00af00; text-decoration-color: #00af00\">0</span> (unbuilt) │\n",
       "└─────────────────────────────────┴────────────────────────┴───────────────┘\n",
       "</pre>\n"
      ]
     },
     "metadata": {},
     "output_type": "display_data"
    },
    {
     "data": {
      "text/plain": [
       "\u001B[1m Total params: \u001B[0m\u001B[38;5;34m0\u001B[0m (0.00 B)\n"
      ],
      "text/html": [
       "<pre style=\"white-space:pre;overflow-x:auto;line-height:normal;font-family:Menlo,'DejaVu Sans Mono',consolas,'Courier New',monospace\"><span style=\"font-weight: bold\"> Total params: </span><span style=\"color: #00af00; text-decoration-color: #00af00\">0</span> (0.00 B)\n",
       "</pre>\n"
      ]
     },
     "metadata": {},
     "output_type": "display_data"
    },
    {
     "data": {
      "text/plain": [
       "\u001B[1m Trainable params: \u001B[0m\u001B[38;5;34m0\u001B[0m (0.00 B)\n"
      ],
      "text/html": [
       "<pre style=\"white-space:pre;overflow-x:auto;line-height:normal;font-family:Menlo,'DejaVu Sans Mono',consolas,'Courier New',monospace\"><span style=\"font-weight: bold\"> Trainable params: </span><span style=\"color: #00af00; text-decoration-color: #00af00\">0</span> (0.00 B)\n",
       "</pre>\n"
      ]
     },
     "metadata": {},
     "output_type": "display_data"
    },
    {
     "data": {
      "text/plain": [
       "\u001B[1m Non-trainable params: \u001B[0m\u001B[38;5;34m0\u001B[0m (0.00 B)\n"
      ],
      "text/html": [
       "<pre style=\"white-space:pre;overflow-x:auto;line-height:normal;font-family:Menlo,'DejaVu Sans Mono',consolas,'Courier New',monospace\"><span style=\"font-weight: bold\"> Non-trainable params: </span><span style=\"color: #00af00; text-decoration-color: #00af00\">0</span> (0.00 B)\n",
       "</pre>\n"
      ]
     },
     "metadata": {},
     "output_type": "display_data"
    }
   ],
   "execution_count": 4
  },
  {
   "metadata": {},
   "cell_type": "markdown",
   "source": "## 4. Train the model\n",
   "id": "2680a929b309d33f"
  },
  {
   "metadata": {
    "ExecuteTime": {
     "end_time": "2025-05-20T13:44:04.231267Z",
     "start_time": "2025-05-20T09:33:43.901780Z"
    }
   },
   "cell_type": "code",
   "source": [
    "print(\"Training the model...\")\n",
    "\n",
    "# Define callbacks\n",
    "early_stopping = EarlyStopping(\n",
    "    monitor='val_loss',\n",
    "    patience=3,\n",
    "    restore_best_weights=True\n",
    ")\n",
    "\n",
    "model_checkpoint = ModelCheckpoint(\n",
    "    'models/best_lstm_model.keras',\n",
    "    monitor='val_accuracy',\n",
    "    save_best_only=True,\n",
    "    verbose=1\n",
    ")\n",
    "\n",
    "# Train the model\n",
    "batch_size = 64\n",
    "epochs = 5\n",
    "\n",
    "start_time = time.time()\n",
    "\n",
    "history = model.fit(\n",
    "    train_padded,\n",
    "    train_labels,\n",
    "    epochs=epochs,\n",
    "    batch_size=batch_size,\n",
    "    validation_split=0.1,\n",
    "    callbacks=[early_stopping, model_checkpoint],\n",
    "    verbose=1\n",
    ")\n",
    "\n",
    "end_time = time.time()\n",
    "training_time = end_time - start_time\n",
    "# print(f\"Training completed in {training_time / 60:.2f} seconds\")\n",
    "print(f\"Training completed in {training_time / 60:.2f} minutes\")\n"
   ],
   "id": "6cc09efbd729445a",
   "outputs": [
    {
     "name": "stdout",
     "output_type": "stream",
     "text": [
      "Training the model...\n",
      "Epoch 1/5\n"
     ]
    },
    {
     "name": "stderr",
     "output_type": "stream",
     "text": [
      "2025-05-20 12:33:46.188699: I tensorflow/core/grappler/optimizers/custom_graph_optimizer_registry.cc:117] Plugin optimizer for device_type GPU is enabled.\n"
     ]
    },
    {
     "name": "stdout",
     "output_type": "stream",
     "text": [
      "\u001B[1m7875/7875\u001B[0m \u001B[32m━━━━━━━━━━━━━━━━━━━━\u001B[0m\u001B[37m\u001B[0m \u001B[1m0s\u001B[0m 523ms/step - accuracy: 0.8828 - loss: 0.2830\n",
      "Epoch 1: val_accuracy improved from -inf to 0.94638, saving model to best_lstm_model.keras\n",
      "\u001B[1m7875/7875\u001B[0m \u001B[32m━━━━━━━━━━━━━━━━━━━━\u001B[0m\u001B[37m\u001B[0m \u001B[1m4252s\u001B[0m 538ms/step - accuracy: 0.8828 - loss: 0.2830 - val_accuracy: 0.9464 - val_loss: 0.1336\n",
      "Epoch 2/5\n",
      "\u001B[1m7875/7875\u001B[0m \u001B[32m━━━━━━━━━━━━━━━━━━━━\u001B[0m\u001B[37m\u001B[0m \u001B[1m0s\u001B[0m 419ms/step - accuracy: 0.9409 - loss: 0.1531\n",
      "Epoch 2: val_accuracy improved from 0.94638 to 0.95595, saving model to best_lstm_model.keras\n",
      "\u001B[1m7875/7875\u001B[0m \u001B[32m━━━━━━━━━━━━━━━━━━━━\u001B[0m\u001B[37m\u001B[0m \u001B[1m3398s\u001B[0m 431ms/step - accuracy: 0.9409 - loss: 0.1531 - val_accuracy: 0.9559 - val_loss: 0.1129\n",
      "Epoch 3/5\n",
      "\u001B[1m7875/7875\u001B[0m \u001B[32m━━━━━━━━━━━━━━━━━━━━\u001B[0m\u001B[37m\u001B[0m \u001B[1m0s\u001B[0m 332ms/step - accuracy: 0.9518 - loss: 0.1273\n",
      "Epoch 3: val_accuracy did not improve from 0.95595\n",
      "\u001B[1m7875/7875\u001B[0m \u001B[32m━━━━━━━━━━━━━━━━━━━━\u001B[0m\u001B[37m\u001B[0m \u001B[1m2715s\u001B[0m 345ms/step - accuracy: 0.9518 - loss: 0.1273 - val_accuracy: 0.9559 - val_loss: 0.1121\n",
      "Epoch 4/5\n",
      "\u001B[1m7875/7875\u001B[0m \u001B[32m━━━━━━━━━━━━━━━━━━━━\u001B[0m\u001B[37m\u001B[0m \u001B[1m0s\u001B[0m 261ms/step - accuracy: 0.9603 - loss: 0.1078\n",
      "Epoch 4: val_accuracy improved from 0.95595 to 0.95662, saving model to best_lstm_model.keras\n",
      "\u001B[1m7875/7875\u001B[0m \u001B[32m━━━━━━━━━━━━━━━━━━━━\u001B[0m\u001B[37m\u001B[0m \u001B[1m2141s\u001B[0m 272ms/step - accuracy: 0.9603 - loss: 0.1078 - val_accuracy: 0.9566 - val_loss: 0.1169\n",
      "Epoch 5/5\n",
      "\u001B[1m7875/7875\u001B[0m \u001B[32m━━━━━━━━━━━━━━━━━━━━\u001B[0m\u001B[37m\u001B[0m \u001B[1m0s\u001B[0m 309ms/step - accuracy: 0.9674 - loss: 0.0900\n",
      "Epoch 5: val_accuracy did not improve from 0.95662\n",
      "\u001B[1m7875/7875\u001B[0m \u001B[32m━━━━━━━━━━━━━━━━━━━━\u001B[0m\u001B[37m\u001B[0m \u001B[1m2514s\u001B[0m 319ms/step - accuracy: 0.9674 - loss: 0.0900 - val_accuracy: 0.9555 - val_loss: 0.1273\n",
      "Training completed in 250.34 minutes\n"
     ]
    }
   ],
   "execution_count": 5
  },
  {
   "metadata": {},
   "cell_type": "markdown",
   "source": "## 5. Evaluate the model\n",
   "id": "557f19f049e9164c"
  },
  {
   "metadata": {
    "ExecuteTime": {
     "end_time": "2025-05-20T13:46:30.864115Z",
     "start_time": "2025-05-20T13:44:04.645398Z"
    }
   },
   "cell_type": "code",
   "source": [
    "print(\"Evaluating the model...\")\n",
    "\n",
    "# Evaluate on test data\n",
    "test_loss, test_accuracy = model.evaluate(test_padded, test_labels)\n",
    "print(f\"Test Loss: {test_loss:.4f}\")\n",
    "print(f\"Test Accuracy: {test_accuracy:.4f}\")\n",
    "\n",
    "# Make predictions\n",
    "y_pred_prob = model.predict(test_padded, verbose=0)\n",
    "\n",
    "# Handle different possible shapes of prediction result\n",
    "if hasattr(y_pred_prob, 'numpy'):  # TF Tensor\n",
    "    y_pred_prob = y_pred_prob.numpy()\n",
    "\n",
    "y_pred = (y_pred_prob > 0.5).astype(int).flatten()\n",
    "\n",
    "# Print classification report\n",
    "print(\"\\nClassification Report:\")\n",
    "print(classification_report(test_labels, y_pred, target_names=['Negative', 'Positive']))\n",
    "\n",
    "# Create confusion matrix\n",
    "cm = confusion_matrix(test_labels, y_pred)\n",
    "plt.figure(figsize=(8, 6))\n",
    "sns.heatmap(cm, annot=True, fmt='d', cmap='Blues', xticklabels=['Negative', 'Positive'], yticklabels=['Negative', 'Positive'])\n",
    "plt.xlabel('Predicted')\n",
    "plt.ylabel('Actual')\n",
    "plt.title('Confusion Matrix')\n",
    "plt.show()\n"
   ],
   "id": "ecd4634410f5f958",
   "outputs": [
    {
     "name": "stdout",
     "output_type": "stream",
     "text": [
      "Evaluating the model...\n",
      "\u001B[1m1188/1188\u001B[0m \u001B[32m━━━━━━━━━━━━━━━━━━━━\u001B[0m\u001B[37m\u001B[0m \u001B[1m75s\u001B[0m 62ms/step - accuracy: 0.9473 - loss: 0.1383\n",
      "Test Loss: 0.1330\n",
      "Test Accuracy: 0.9493\n",
      "\n",
      "Classification Report:\n",
      "              precision    recall  f1-score   support\n",
      "\n",
      "    Negative       0.94      0.95      0.95     19000\n",
      "    Positive       0.95      0.94      0.95     19000\n",
      "\n",
      "    accuracy                           0.95     38000\n",
      "   macro avg       0.95      0.95      0.95     38000\n",
      "weighted avg       0.95      0.95      0.95     38000\n",
      "\n"
     ]
    },
    {
     "data": {
      "text/plain": [
       "<Figure size 800x600 with 2 Axes>"
      ],
      "image/png": "[encoded data removed]"
     },
     "metadata": {},
     "output_type": "display_data"
    }
   ],
   "execution_count": 6
  },
  {
   "metadata": {},
   "cell_type": "markdown",
   "source": "## 6. Visualize training history\n",
   "id": "aa958af7c0e2ed07"
  },
  {
   "metadata": {
    "ExecuteTime": {
     "end_time": "2025-05-20T13:46:31.029784Z",
     "start_time": "2025-05-20T13:46:30.897650Z"
    }
   },
   "cell_type": "code",
   "source": [
    "print(\"Visualizing training history...\")\n",
    "\n",
    "# Plot training & validation accuracy\n",
    "plt.figure(figsize=(12, 4))\n",
    "plt.subplot(1, 2, 1)\n",
    "plt.plot(history.history['accuracy'])\n",
    "plt.plot(history.history['val_accuracy'])\n",
    "plt.title('Model Accuracy')\n",
    "plt.ylabel('Accuracy')\n",
    "plt.xlabel('Epoch')\n",
    "plt.legend(['Train', 'Validation'], loc='upper left')\n",
    "\n",
    "# Plot training & validation loss\n",
    "plt.subplot(1, 2, 2)\n",
    "plt.plot(history.history['loss'])\n",
    "plt.plot(history.history['val_loss'])\n",
    "plt.title('Model Loss')\n",
    "plt.ylabel('Loss')\n",
    "plt.xlabel('Epoch')\n",
    "plt.legend(['Train', 'Validation'], loc='upper left')\n",
    "plt.tight_layout()\n",
    "plt.show()\n"
   ],
   "id": "5b7704f71dfca06",
   "outputs": [
    {
     "name": "stdout",
     "output_type": "stream",
     "text": [
      "Visualizing training history...\n"
     ]
    },
    {
     "data": {
      "text/plain": [
       "<Figure size 1200x400 with 2 Axes>"
      ],
      "image/png": "[encoded data removed]"
     },
     "metadata": {},
     "output_type": "display_data"
    }
   ],
   "execution_count": 7
  },
  {
   "metadata": {},
   "cell_type": "markdown",
   "source": "## 7. Test with custom examples\n",
   "id": "380571fc4a9607f9"
  },
  {
   "metadata": {
    "ExecuteTime": {
     "end_time": "2025-05-20T13:46:32.001740Z",
     "start_time": "2025-05-20T13:46:31.044168Z"
    }
   },
   "cell_type": "code",
   "source": [
    "print(\"Testing with custom examples...\")\n",
    "\n",
    "def predict_sentiment(text):\n",
    "    \"\"\"\n",
    "    Predict sentiment for a given text\n",
    "    \"\"\"\n",
    "    # Preprocess the text\n",
    "    processed_text = preprocess_text(text)\n",
    "\n",
    "    # Convert to sequence\n",
    "    sequence = tokenizer.texts_to_sequences([processed_text])\n",
    "\n",
    "    # Pad the sequence\n",
    "    padded = pad_sequences(sequence, maxlen=max_len, padding='post', truncating='post')\n",
    "\n",
    "    # Predict\n",
    "    prediction_result = model.predict(padded, verbose=0)\n",
    "\n",
    "    # Handle different possible shapes of prediction result\n",
    "    if hasattr(prediction_result, 'numpy'):  # TF Tensor\n",
    "        prediction_result = prediction_result.numpy()\n",
    "\n",
    "    # Extract the prediction value based on shape\n",
    "    if prediction_result.ndim == 2:\n",
    "        prediction = prediction_result[0][0]\n",
    "    else:\n",
    "        prediction = prediction_result[0]\n",
    "\n",
    "    # Return result\n",
    "    sentiment = \"Positive\" if prediction > 0.5 else \"Negative\"\n",
    "    confidence = prediction if prediction > 0.5 else 1 - prediction\n",
    "\n",
    "    return sentiment, confidence\n",
    "\n",
    "# Test with some examples\n",
    "test_examples = [\n",
    "    \"This restaurant was amazing! The food was delicious and the service was excellent.\",\n",
    "    \"Terrible experience. The staff was rude and the food was cold.\",\n",
    "    \"The product was okay, but not worth the price.\"\n",
    "]\n",
    "\n",
    "for i, example in enumerate(test_examples):\n",
    "    sentiment, confidence = predict_sentiment(example)\n",
    "    print(f\"Example {i+1}:\")\n",
    "    print(f\"Text: {example}\")\n",
    "    print(f\"Predicted sentiment: {sentiment} (confidence: {confidence:.4f})\")\n",
    "    print()\n"
   ],
   "id": "644f33089608171a",
   "outputs": [
    {
     "name": "stdout",
     "output_type": "stream",
     "text": [
      "Testing with custom examples...\n",
      "Example 1:\n",
      "Text: This restaurant was amazing! The food was delicious and the service was excellent.\n",
      "Predicted sentiment: Positive (confidence: 0.9989)\n",
      "\n",
      "Example 2:\n",
      "Text: Terrible experience. The staff was rude and the food was cold.\n",
      "Predicted sentiment: Negative (confidence: 0.9992)\n",
      "\n",
      "Example 3:\n",
      "Text: The product was okay, but not worth the price.\n",
      "Predicted sentiment: Negative (confidence: 0.9979)\n",
      "\n"
     ]
    }
   ],
   "execution_count": 8
  },
  {
   "metadata": {},
   "cell_type": "markdown",
   "source": [
    "## 8. Conclusion\n",
    "\n",
    "In this notebook, we implemented a Bidirectional LSTM model for sentiment analysis using the Yelp Review Polarity Dataset.\n",
    "\n",
    "Key components of our implementation:\n",
    "1. Data preprocessing: We cleaned the text by removing punctuation, numbers, and converting to lowercase.\n",
    "2. Text vectorization: We used Tokenizer and pad_sequences to convert text to numerical sequences.\n",
    "3. Model architecture: We built a deep learning model with Embedding layer, Bidirectional LSTM layers, and Dropout for regularization.\n",
    "4. Training: We trained the model with early stopping to prevent overfitting.\n",
    "5. Evaluation: We evaluated the model on the test set and visualized the results.\n",
    "\n",
    "The model achieved good performance in classifying reviews as positive or negative, demonstrating the effectiveness of LSTM networks for sentiment analysis tasks.\n"
   ],
   "id": "3e1c8d232fbaea8e"
  }
 ],
 "metadata": {
  "kernelspec": {
   "display_name": "Python 3",
   "language": "python",
   "name": "python3"
  },
  "language_info": {
   "codemirror_mode": {
    "name": "ipython",
    "version": 2
   },
   "file_extension": ".py",
   "mimetype": "text/x-python",
   "name": "python",
   "nbconvert_exporter": "python",
   "pygments_lexer": "ipython2",
   "version": "2.7.6"
  }
 },
 "nbformat": 4,
 "nbformat_minor": 5
}
